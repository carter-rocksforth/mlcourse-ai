{
 "cells": [
  {
   "cell_type": "code",
   "execution_count": null,
   "metadata": {
    "collapsed": true
   },
   "outputs": [],
   "source": [
    "import numpy as np\n",
    "import pandas as pd"
   ]
  },
  {
   "cell_type": "markdown",
   "metadata": {},
   "source": [
    "# Reading in the Data"
   ]
  },
  {
   "cell_type": "code",
   "execution_count": null,
   "metadata": {},
   "outputs": [],
   "source": [
    "data = pd.read_csv('athlete_events.csv')\n",
    "data.head()"
   ]
  },
  {
   "cell_type": "markdown",
   "metadata": {},
   "source": [
    "# Questions (and Answers)"
   ]
  },
  {
   "cell_type": "markdown",
   "metadata": {},
   "source": [
    "1) How old were the youngest male and female participants in the 1992 Olympics?"
   ]
  },
  {
   "cell_type": "code",
   "execution_count": null,
   "metadata": {},
   "outputs": [],
   "source": [
    "youngest_male = data.loc[\n",
    "    (data['Year'] == 1992)\n",
    "    & (data['Sex'] == 'M'),\n",
    "    'Age'\n",
    "].min()\n",
    "\n",
    "youngest_female = data.loc[\n",
    "    (data['Year'] == 1992)\n",
    "    & (data['Sex'] == 'F'),\n",
    "    'Age'\n",
    "].min()\n",
    "\n",
    "print('Youngest male: {} \\nYoungest female: {}'.format(\n",
    "    youngest_male, youngest_female\n",
    "))"
   ]
  },
  {
   "cell_type": "markdown",
   "metadata": {},
   "source": [
    "2) What was the percentage of male basbetball players among all the male participants of the 2012 Olympics? Round the answer to the first decimal"
   ]
  },
  {
   "cell_type": "code",
   "execution_count": null,
   "metadata": {},
   "outputs": [],
   "source": [
    "bball = data.loc[\n",
    "    (data['Year'] == 2012)\n",
    "    & (data['Sport'] == 'Basketball')\n",
    "    & (data['Sex'] == 'M')\n",
    "]\n",
    "bball = set(bball['Name'])\n",
    "\n",
    "males = data.loc[\n",
    "    (data['Year'] == 2012)\n",
    "    & (data['Sex'] == 'M')\n",
    "]\n",
    "males = set(males['Name'])\n",
    "\n",
    "print('Share of male bball to all males is {}'.format(\n",
    "    np.round(len(bball) / len(males) * 100, 1)\n",
    "))"
   ]
  },
  {
   "cell_type": "markdown",
   "metadata": {},
   "source": [
    "3) What are the mean and standar deviation of height for female tennis players who participated in the 2000 Olympics?"
   ]
  },
  {
   "cell_type": "code",
   "execution_count": null,
   "metadata": {},
   "outputs": [],
   "source": [
    "temp = data.loc[\n",
    "    (data['Sex'] == 'F')\n",
    "    & (data['Year'] == 2000)\n",
    "    & (data['Sport'] == 'Tennis')\n",
    "]\n",
    "temp = temp.groupby('Name').first()\n",
    "\n",
    "mean_height = np.round(temp['Height'].mean(), 1)\n",
    "std_height = np.round(temp['Height'].std(), 1)\n",
    "\n",
    "print('Mean: {}\\nStd: {}'.format(mean_height, std_height))"
   ]
  },
  {
   "cell_type": "markdown",
   "metadata": {},
   "source": [
    "4) Find a sportsman who participated in the 2006 Olympics, with the highest weight among other participants of the same Olympics. What sport did he or she do?"
   ]
  },
  {
   "cell_type": "code",
   "execution_count": null,
   "metadata": {},
   "outputs": [],
   "source": [
    "temp = data.loc[\n",
    "    (data['Year'] == 2006)\n",
    "]\n",
    "print(temp.sort_values('Weight', ascending=False)['Sport'].iloc[0])"
   ]
  },
  {
   "cell_type": "markdown",
   "metadata": {},
   "source": [
    "5) How many times did John Aalberg participate in the Olympics held in different years?"
   ]
  },
  {
   "cell_type": "code",
   "execution_count": null,
   "metadata": {},
   "outputs": [],
   "source": [
    "temp = data.loc[\n",
    "    (data['Name'] == 'John Aalberg')\n",
    "]\n",
    "temp = set(temp['Year'])\n",
    "\n",
    "print(len(temp))"
   ]
  },
  {
   "cell_type": "markdown",
   "metadata": {},
   "source": [
    "6) How many gold medals in tennis did sportspeople from the Switzerland team win at the 2008 Olympics? Count every medal from every sportsperson."
   ]
  },
  {
   "cell_type": "code",
   "execution_count": null,
   "metadata": {},
   "outputs": [],
   "source": [
    "temp = data.loc[\n",
    "    (data['Team'] == 'Switzerland')\n",
    "    & (data['Year'] == 2008)\n",
    "    & (data['Sport'] == 'Tennis')\n",
    "    & (data['Medal'] == 'Gold')\n",
    "]\n",
    "\n",
    "print(len(temp))"
   ]
  },
  {
   "cell_type": "markdown",
   "metadata": {},
   "source": [
    "7) Is it true that Spain won fewer medals than Italy at the 2016 Olympics? Do not consider NaN values in Medal column."
   ]
  },
  {
   "cell_type": "code",
   "execution_count": null,
   "metadata": {},
   "outputs": [],
   "source": [
    "spain = data.loc[\n",
    "    (data['Team'] == 'Spain')\n",
    "    & (data['Year'] == 2016)\n",
    "    & (pd.notnull(data['Medal']))\n",
    "]\n",
    "\n",
    "italy = data.loc[\n",
    "    (data['Team'] == 'Italy')\n",
    "    & (data['Year'] == 2016)\n",
    "    & (pd.notnull(data['Medal']))\n",
    "]\n",
    "\n",
    "print(len(spain) < len(italy))"
   ]
  },
  {
   "cell_type": "markdown",
   "metadata": {},
   "source": [
    "8) What age category did the fewest and the most participants of the 2008 Olympics belong to?"
   ]
  },
  {
   "cell_type": "code",
   "execution_count": null,
   "metadata": {},
   "outputs": [],
   "source": [
    "temp = data.loc[\n",
    "    (data['Year'] == 2008)\n",
    "].copy()\n",
    "temp = temp.groupby('Name').first()\n",
    "\n",
    "temp['age_category'] = ((temp['Age'] - 5) // 10) * 10 + 5\n",
    "temp.loc[\n",
    "    (temp['Age'] == 55),\n",
    "    'age_category'\n",
    "] = 45\n",
    "\n",
    "temp['age_category'].value_counts()"
   ]
  },
  {
   "cell_type": "markdown",
   "metadata": {},
   "source": [
    "9) Is it true that there were Summer Olympics held in Atlanta? Is it true that there were Winter Olympics held in Squaw Valley?"
   ]
  },
  {
   "cell_type": "code",
   "execution_count": null,
   "metadata": {},
   "outputs": [],
   "source": [
    "summer = data.loc[\n",
    "    (data['Season'] == 'Summer')\n",
    "]\n",
    "summer = 'Atlanta' in set(summer['City'])\n",
    "\n",
    "winter = data.loc[\n",
    "    (data['Season'] == 'Winter')\n",
    "]\n",
    "winter = 'Squaw Valley' in set(winter['City'])\n",
    "\n",
    "print(summer, winter)"
   ]
  },
  {
   "cell_type": "markdown",
   "metadata": {},
   "source": [
    "10) What is the absolute difference between the number of unique sports at the 1986 Olympics and 2002 Olympics?"
   ]
  },
  {
   "cell_type": "code",
   "execution_count": null,
   "metadata": {},
   "outputs": [],
   "source": [
    "old = data.loc[\n",
    "    (data['Year'] == 1986),\n",
    "    'Sport'\n",
    "].unique()\n",
    "\n",
    "new = data.loc[\n",
    "    (data['Year'] == 2002),\n",
    "    'Sport'\n",
    "].unique()\n",
    "\n",
    "print(abs(len(old) - len(new)))"
   ]
  },
  {
   "cell_type": "code",
   "execution_count": null,
   "metadata": {
    "collapsed": true
   },
   "outputs": [],
   "source": []
  }
 ],
 "metadata": {
  "kernelspec": {
   "display_name": "Python 3",
   "language": "python",
   "name": "python3"
  },
  "language_info": {
   "codemirror_mode": {
    "name": "ipython",
    "version": 3
   },
   "file_extension": ".py",
   "mimetype": "text/x-python",
   "name": "python",
   "nbconvert_exporter": "python",
   "pygments_lexer": "ipython3",
   "version": "3.6.1"
  }
 },
 "nbformat": 4,
 "nbformat_minor": 2
}
